{
  "nbformat": 4,
  "nbformat_minor": 0,
  "metadata": {
    "colab": {
      "name": "PyTorchTensors",
      "provenance": [],
      "collapsed_sections": []
    },
    "kernelspec": {
      "name": "python3",
      "display_name": "Python 3"
    },
    "language_info": {
      "name": "python"
    }
  },
  "cells": [
    {
      "cell_type": "code",
      "metadata": {
        "colab": {
          "base_uri": "https://localhost:8080/"
        },
        "id": "xCap25dRo2c_",
        "outputId": "5257d926-e9ed-4ab7-c761-76af0dcfc1ac"
      },
      "source": [
        "#google colab doesn't come with torch installed :(\n",
        "!pip3 install torch"
      ],
      "execution_count": 1,
      "outputs": [
        {
          "output_type": "stream",
          "text": [
            "Requirement already satisfied: torch in /usr/local/lib/python3.7/dist-packages (1.8.1+cu101)\n",
            "Requirement already satisfied: typing-extensions in /usr/local/lib/python3.7/dist-packages (from torch) (3.7.4.3)\n",
            "Requirement already satisfied: numpy in /usr/local/lib/python3.7/dist-packages (from torch) (1.19.5)\n"
          ],
          "name": "stdout"
        }
      ]
    },
    {
      "cell_type": "code",
      "metadata": {
        "id": "LliIGoJio8bP"
      },
      "source": [
        "#gotta import it of course, and numpy, a library with shared philosophy and interoperability\n",
        "import torch\n",
        "import numpy as np"
      ],
      "execution_count": 2,
      "outputs": []
    },
    {
      "cell_type": "code",
      "metadata": {
        "colab": {
          "base_uri": "https://localhost:8080/"
        },
        "id": "SQfR3acBo9Rs",
        "outputId": "7ede2f20-f2df-4a62-f23b-48caf2bb3344"
      },
      "source": [
        "#creates tensor, this is an idiomatic, basic way not using range\n",
        "v = torch.tensor([1,2,3,4,5,6])\n",
        "\n",
        "#indexing of tensors, the stop index is exclusive(Pythonic in this sense)\n",
        "print(v[1:4])"
      ],
      "execution_count": 4,
      "outputs": [
        {
          "output_type": "stream",
          "text": [
            "tensor([2, 3, 4])\n"
          ],
          "name": "stdout"
        }
      ]
    },
    {
      "cell_type": "code",
      "metadata": {
        "colab": {
          "base_uri": "https://localhost:8080/"
        },
        "id": "YbluEx5upBcu",
        "outputId": "53b6c4d0-0bdd-4c55-859b-41e3db0afb90"
      },
      "source": [
        "#float tensor -- a tensor of...floats, whoa\n",
        "f = torch.FloatTensor([1,2,3,4,5,6])\n",
        "print(f)"
      ],
      "execution_count": 5,
      "outputs": [
        {
          "output_type": "stream",
          "text": [
            "tensor([1., 2., 3., 4., 5., 6.])\n"
          ],
          "name": "stdout"
        }
      ]
    },
    {
      "cell_type": "code",
      "metadata": {
        "colab": {
          "base_uri": "https://localhost:8080/"
        },
        "id": "q-fKMRcUpWUE",
        "outputId": "4170c437-9aa1-4483-c9d2-8213c28489f6"
      },
      "source": [
        "print(f.dtype)"
      ],
      "execution_count": 6,
      "outputs": [
        {
          "output_type": "stream",
          "text": [
            "torch.float32\n"
          ],
          "name": "stdout"
        }
      ]
    },
    {
      "cell_type": "code",
      "metadata": {
        "colab": {
          "base_uri": "https://localhost:8080/"
        },
        "id": "Dx8jl6ydpYvv",
        "outputId": "28cb6f96-065f-4a49-874d-d575d7fcda0e"
      },
      "source": [
        "#.size() gives the size of a tensor, dead simple\n",
        "print(f.size())"
      ],
      "execution_count": 8,
      "outputs": [
        {
          "output_type": "stream",
          "text": [
            "torch.Size([6])\n"
          ],
          "name": "stdout"
        }
      ]
    },
    {
      "cell_type": "code",
      "metadata": {
        "colab": {
          "base_uri": "https://localhost:8080/"
        },
        "id": "624kvP3tpbFb",
        "outputId": "564eb5d4-8d40-4d1d-8301-a1fcc9993c99"
      },
      "source": [
        "#view tensor as 6 rows in 1 column, ala. numpy's reshape method\n",
        "v.view(6,1)"
      ],
      "execution_count": 9,
      "outputs": [
        {
          "output_type": "execute_result",
          "data": {
            "text/plain": [
              "tensor([[1],\n",
              "        [2],\n",
              "        [3],\n",
              "        [4],\n",
              "        [5],\n",
              "        [6]])"
            ]
          },
          "metadata": {
            "tags": []
          },
          "execution_count": 9
        }
      ]
    },
    {
      "cell_type": "code",
      "metadata": {
        "colab": {
          "base_uri": "https://localhost:8080/"
        },
        "id": "g5E5gEcYpi-e",
        "outputId": "6585073e-3550-449a-f557-f93ed11e19d1"
      },
      "source": [
        "#viewing tensor as 3 rows w/2 columns...\n",
        "v.view(3,2)"
      ],
      "execution_count": 10,
      "outputs": [
        {
          "output_type": "execute_result",
          "data": {
            "text/plain": [
              "tensor([[1, 2],\n",
              "        [3, 4],\n",
              "        [5, 6]])"
            ]
          },
          "metadata": {
            "tags": []
          },
          "execution_count": 10
        }
      ]
    },
    {
      "cell_type": "code",
      "metadata": {
        "colab": {
          "base_uri": "https://localhost:8080/"
        },
        "id": "oiDy2mAhpt8n",
        "outputId": "3cf5feac-37b9-4b29-a951-f1e74399078d"
      },
      "source": [
        "v.view(3,-1)"
      ],
      "execution_count": 11,
      "outputs": [
        {
          "output_type": "execute_result",
          "data": {
            "text/plain": [
              "tensor([[1, 2],\n",
              "        [3, 4],\n",
              "        [5, 6]])"
            ]
          },
          "metadata": {
            "tags": []
          },
          "execution_count": 11
        }
      ]
    },
    {
      "cell_type": "code",
      "metadata": {
        "id": "GPmM5WunqDqU"
      },
      "source": [
        "#creating a numpy n-dimensional array(type: ndarray)\n",
        "a = np.array([1,2,3,4,5])"
      ],
      "execution_count": 14,
      "outputs": []
    },
    {
      "cell_type": "code",
      "metadata": {
        "colab": {
          "base_uri": "https://localhost:8080/"
        },
        "id": "PJFRVAKoqHrd",
        "outputId": "c479319d-ec19-4e43-85a6-5f442af6c918"
      },
      "source": [
        "#creating a tensor from a numpy array!\n",
        "tensor_cnv = torch.from_numpy(a)\n",
        "print(tensor_cnv)"
      ],
      "execution_count": 15,
      "outputs": [
        {
          "output_type": "stream",
          "text": [
            "tensor([1, 2, 3, 4, 5])\n"
          ],
          "name": "stdout"
        }
      ]
    },
    {
      "cell_type": "code",
      "metadata": {
        "colab": {
          "base_uri": "https://localhost:8080/"
        },
        "id": "DJM62nIZqPON",
        "outputId": "6e51d14f-c3ec-4063-9c6d-043950966a5c"
      },
      "source": [
        "#another way of giving the type\n",
        "print(tensor_cnv.type())"
      ],
      "execution_count": 16,
      "outputs": [
        {
          "output_type": "stream",
          "text": [
            "torch.LongTensor\n"
          ],
          "name": "stdout"
        }
      ]
    },
    {
      "cell_type": "code",
      "metadata": {
        "colab": {
          "base_uri": "https://localhost:8080/"
        },
        "id": "Y0JbRcWTqQ96",
        "outputId": "82936f57-d1dc-447b-dae2-f5eefe8eb6f8"
      },
      "source": [
        "#whoa, turning it back into an ndarray! wild stuff,,,\n",
        "numpy_cnv = tensor_cnv.numpy()\n",
        "print(numpy_cnv)"
      ],
      "execution_count": 17,
      "outputs": [
        {
          "output_type": "stream",
          "text": [
            "[1 2 3 4 5]\n"
          ],
          "name": "stdout"
        }
      ]
    },
    {
      "cell_type": "code",
      "metadata": {
        "id": "69wyreERqWO9"
      },
      "source": [
        "#interchangable between numpy arrays and tensors"
      ],
      "execution_count": 18,
      "outputs": []
    },
    {
      "cell_type": "code",
      "metadata": {
        "colab": {
          "base_uri": "https://localhost:8080/"
        },
        "id": "qIefZfXsqaNm",
        "outputId": "99652893-4d61-4e84-8e7e-4e2771d38413"
      },
      "source": [
        "print(type(numpy_cnv))"
      ],
      "execution_count": 21,
      "outputs": [
        {
          "output_type": "stream",
          "text": [
            "<class 'numpy.ndarray'>\n"
          ],
          "name": "stdout"
        }
      ]
    }
  ]
}