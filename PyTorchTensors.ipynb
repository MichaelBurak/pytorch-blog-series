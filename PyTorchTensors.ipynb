{
  "nbformat": 4,
  "nbformat_minor": 0,
  "metadata": {
    "colab": {
      "name": "PyTorchTensors",
      "provenance": [],
      "collapsed_sections": []
    },
    "kernelspec": {
      "name": "python3",
      "display_name": "Python 3"
    },
    "language_info": {
      "name": "python"
    }
  },
  "cells": [
    {
      "cell_type": "markdown",
      "metadata": {
        "id": "S408AazxIRVD"
      },
      "source": [
        "LESSON 1 of Udemy course(https://www.udemy.com/course/pytorch-for-deep-learning-and-computer-vision)"
      ]
    },
    {
      "cell_type": "code",
      "metadata": {
        "colab": {
          "base_uri": "https://localhost:8080/"
        },
        "id": "xCap25dRo2c_",
        "outputId": "5257d926-e9ed-4ab7-c761-76af0dcfc1ac"
      },
      "source": [
        "#google colab doesn't come with torch installed :(\n",
        "!pip3 install torch"
      ],
      "execution_count": null,
      "outputs": [
        {
          "output_type": "stream",
          "text": [
            "Requirement already satisfied: torch in /usr/local/lib/python3.7/dist-packages (1.8.1+cu101)\n",
            "Requirement already satisfied: typing-extensions in /usr/local/lib/python3.7/dist-packages (from torch) (3.7.4.3)\n",
            "Requirement already satisfied: numpy in /usr/local/lib/python3.7/dist-packages (from torch) (1.19.5)\n"
          ],
          "name": "stdout"
        }
      ]
    },
    {
      "cell_type": "code",
      "metadata": {
        "id": "LliIGoJio8bP"
      },
      "source": [
        "#gotta import it of course, and numpy, a library with shared philosophy and interoperability\n",
        "import torch\n",
        "import numpy as np"
      ],
      "execution_count": null,
      "outputs": []
    },
    {
      "cell_type": "code",
      "metadata": {
        "colab": {
          "base_uri": "https://localhost:8080/"
        },
        "id": "SQfR3acBo9Rs",
        "outputId": "7ede2f20-f2df-4a62-f23b-48caf2bb3344"
      },
      "source": [
        "#creates tensor, this is an idiomatic, basic way not using range\n",
        "v = torch.tensor([1,2,3,4,5,6])\n",
        "\n",
        "#indexing of tensors, the stop index is exclusive(Pythonic in this sense)\n",
        "print(v[1:4])"
      ],
      "execution_count": null,
      "outputs": [
        {
          "output_type": "stream",
          "text": [
            "tensor([2, 3, 4])\n"
          ],
          "name": "stdout"
        }
      ]
    },
    {
      "cell_type": "code",
      "metadata": {
        "colab": {
          "base_uri": "https://localhost:8080/"
        },
        "id": "YbluEx5upBcu",
        "outputId": "53b6c4d0-0bdd-4c55-859b-41e3db0afb90"
      },
      "source": [
        "#float tensor -- a tensor of...floats, whoa\n",
        "f = torch.FloatTensor([1,2,3,4,5,6])\n",
        "print(f)"
      ],
      "execution_count": null,
      "outputs": [
        {
          "output_type": "stream",
          "text": [
            "tensor([1., 2., 3., 4., 5., 6.])\n"
          ],
          "name": "stdout"
        }
      ]
    },
    {
      "cell_type": "code",
      "metadata": {
        "colab": {
          "base_uri": "https://localhost:8080/"
        },
        "id": "q-fKMRcUpWUE",
        "outputId": "4170c437-9aa1-4483-c9d2-8213c28489f6"
      },
      "source": [
        "print(f.dtype)"
      ],
      "execution_count": null,
      "outputs": [
        {
          "output_type": "stream",
          "text": [
            "torch.float32\n"
          ],
          "name": "stdout"
        }
      ]
    },
    {
      "cell_type": "code",
      "metadata": {
        "colab": {
          "base_uri": "https://localhost:8080/"
        },
        "id": "Dx8jl6ydpYvv",
        "outputId": "28cb6f96-065f-4a49-874d-d575d7fcda0e"
      },
      "source": [
        "#.size() gives the size of a tensor, dead simple\n",
        "print(f.size())"
      ],
      "execution_count": null,
      "outputs": [
        {
          "output_type": "stream",
          "text": [
            "torch.Size([6])\n"
          ],
          "name": "stdout"
        }
      ]
    },
    {
      "cell_type": "code",
      "metadata": {
        "colab": {
          "base_uri": "https://localhost:8080/"
        },
        "id": "624kvP3tpbFb",
        "outputId": "564eb5d4-8d40-4d1d-8301-a1fcc9993c99"
      },
      "source": [
        "#view tensor as 6 rows in 1 column, ala. numpy's reshape method\n",
        "v.view(6,1)"
      ],
      "execution_count": null,
      "outputs": [
        {
          "output_type": "execute_result",
          "data": {
            "text/plain": [
              "tensor([[1],\n",
              "        [2],\n",
              "        [3],\n",
              "        [4],\n",
              "        [5],\n",
              "        [6]])"
            ]
          },
          "metadata": {
            "tags": []
          },
          "execution_count": 9
        }
      ]
    },
    {
      "cell_type": "code",
      "metadata": {
        "colab": {
          "base_uri": "https://localhost:8080/"
        },
        "id": "g5E5gEcYpi-e",
        "outputId": "6585073e-3550-449a-f557-f93ed11e19d1"
      },
      "source": [
        "#viewing tensor as 3 rows w/2 columns...\n",
        "v.view(3,2)"
      ],
      "execution_count": null,
      "outputs": [
        {
          "output_type": "execute_result",
          "data": {
            "text/plain": [
              "tensor([[1, 2],\n",
              "        [3, 4],\n",
              "        [5, 6]])"
            ]
          },
          "metadata": {
            "tags": []
          },
          "execution_count": 10
        }
      ]
    },
    {
      "cell_type": "code",
      "metadata": {
        "colab": {
          "base_uri": "https://localhost:8080/"
        },
        "id": "oiDy2mAhpt8n",
        "outputId": "3cf5feac-37b9-4b29-a951-f1e74399078d"
      },
      "source": [
        "v.view(3,-1)"
      ],
      "execution_count": null,
      "outputs": [
        {
          "output_type": "execute_result",
          "data": {
            "text/plain": [
              "tensor([[1, 2],\n",
              "        [3, 4],\n",
              "        [5, 6]])"
            ]
          },
          "metadata": {
            "tags": []
          },
          "execution_count": 11
        }
      ]
    },
    {
      "cell_type": "code",
      "metadata": {
        "id": "GPmM5WunqDqU"
      },
      "source": [
        "#creating a numpy n-dimensional array(type: ndarray)\n",
        "a = np.array([1,2,3,4,5])"
      ],
      "execution_count": null,
      "outputs": []
    },
    {
      "cell_type": "code",
      "metadata": {
        "colab": {
          "base_uri": "https://localhost:8080/"
        },
        "id": "PJFRVAKoqHrd",
        "outputId": "c479319d-ec19-4e43-85a6-5f442af6c918"
      },
      "source": [
        "#creating a tensor from a numpy array!\n",
        "tensor_cnv = torch.from_numpy(a)\n",
        "print(tensor_cnv)"
      ],
      "execution_count": null,
      "outputs": [
        {
          "output_type": "stream",
          "text": [
            "tensor([1, 2, 3, 4, 5])\n"
          ],
          "name": "stdout"
        }
      ]
    },
    {
      "cell_type": "code",
      "metadata": {
        "colab": {
          "base_uri": "https://localhost:8080/"
        },
        "id": "DJM62nIZqPON",
        "outputId": "6e51d14f-c3ec-4063-9c6d-043950966a5c"
      },
      "source": [
        "#another way of giving the type\n",
        "print(tensor_cnv.type())"
      ],
      "execution_count": null,
      "outputs": [
        {
          "output_type": "stream",
          "text": [
            "torch.LongTensor\n"
          ],
          "name": "stdout"
        }
      ]
    },
    {
      "cell_type": "code",
      "metadata": {
        "colab": {
          "base_uri": "https://localhost:8080/"
        },
        "id": "Y0JbRcWTqQ96",
        "outputId": "82936f57-d1dc-447b-dae2-f5eefe8eb6f8"
      },
      "source": [
        "#whoa, turning it back into an ndarray! wild stuff,,,\n",
        "numpy_cnv = tensor_cnv.numpy()\n",
        "print(numpy_cnv)"
      ],
      "execution_count": null,
      "outputs": [
        {
          "output_type": "stream",
          "text": [
            "[1 2 3 4 5]\n"
          ],
          "name": "stdout"
        }
      ]
    },
    {
      "cell_type": "code",
      "metadata": {
        "id": "69wyreERqWO9"
      },
      "source": [
        "#interchangable between numpy arrays and tensors"
      ],
      "execution_count": null,
      "outputs": []
    },
    {
      "cell_type": "code",
      "metadata": {
        "colab": {
          "base_uri": "https://localhost:8080/"
        },
        "id": "qIefZfXsqaNm",
        "outputId": "99652893-4d61-4e84-8e7e-4e2771d38413"
      },
      "source": [
        "print(type(numpy_cnv))"
      ],
      "execution_count": null,
      "outputs": [
        {
          "output_type": "stream",
          "text": [
            "<class 'numpy.ndarray'>\n"
          ],
          "name": "stdout"
        }
      ]
    },
    {
      "cell_type": "markdown",
      "metadata": {
        "id": "j4APCNrXILGX"
      },
      "source": [
        "Lesson 2 in Udemy course"
      ]
    },
    {
      "cell_type": "code",
      "metadata": {
        "id": "YQOX3u1tzwo8",
        "colab": {
          "base_uri": "https://localhost:8080/"
        },
        "outputId": "ca46f92c-4e22-4632-fbd4-010911c12e05"
      },
      "source": [
        "#one-d, behave like vectors in how they are added \n",
        "t_one = torch.tensor([1,2,3])\n",
        "t_two = torch.tensor([1,2,3])\n",
        "\n",
        "t_one + t_two"
      ],
      "execution_count": 22,
      "outputs": [
        {
          "output_type": "execute_result",
          "data": {
            "text/plain": [
              "tensor([2, 4, 6])"
            ]
          },
          "metadata": {
            "tags": []
          },
          "execution_count": 22
        }
      ]
    },
    {
      "cell_type": "code",
      "metadata": {
        "colab": {
          "base_uri": "https://localhost:8080/"
        },
        "id": "QCJOVZ5HG_XM",
        "outputId": "5474cde5-ae0a-4aad-be97-bd0035164bf8"
      },
      "source": [
        "t_one * t_two"
      ],
      "execution_count": 23,
      "outputs": [
        {
          "output_type": "execute_result",
          "data": {
            "text/plain": [
              "tensor([1, 4, 9])"
            ]
          },
          "metadata": {
            "tags": []
          },
          "execution_count": 23
        }
      ]
    },
    {
      "cell_type": "code",
      "metadata": {
        "colab": {
          "base_uri": "https://localhost:8080/"
        },
        "id": "FHdNHNdyHC6r",
        "outputId": "857f4203-560c-4104-9edd-a817c8fa5854"
      },
      "source": [
        "#vectors can be multiple each element by scalars\n",
        "t_one * 5 "
      ],
      "execution_count": 24,
      "outputs": [
        {
          "output_type": "execute_result",
          "data": {
            "text/plain": [
              "tensor([ 5, 10, 15])"
            ]
          },
          "metadata": {
            "tags": []
          },
          "execution_count": 24
        }
      ]
    },
    {
      "cell_type": "code",
      "metadata": {
        "colab": {
          "base_uri": "https://localhost:8080/"
        },
        "id": "RJjBat2BHHIC",
        "outputId": "3e698765-a171-48bf-b870-3e44c56da4e6"
      },
      "source": [
        "#dot product of the tensors together\n",
        "dot_product = torch.dot(t_one,t_two)\n",
        "print(dot_product)"
      ],
      "execution_count": 25,
      "outputs": [
        {
          "output_type": "stream",
          "text": [
            "tensor(14)\n"
          ],
          "name": "stdout"
        }
      ]
    },
    {
      "cell_type": "code",
      "metadata": {
        "colab": {
          "base_uri": "https://localhost:8080/"
        },
        "id": "EC9hq3tbHPZj",
        "outputId": "0d9a8e20-6601-4508-cc03-545ad80a0662"
      },
      "source": [
        "#range of 100 equally spaced num btwn 0 and 10\n",
        "torch.linspace(0,10)"
      ],
      "execution_count": 26,
      "outputs": [
        {
          "output_type": "stream",
          "text": [
            "/usr/local/lib/python3.7/dist-packages/ipykernel_launcher.py:2: UserWarning: Not providing a value for linspace's steps is deprecated and will throw a runtime error in a future release. This warning will appear only once per process. (Triggered internally at  /pytorch/aten/src/ATen/native/RangeFactories.cpp:23.)\n",
            "  \n"
          ],
          "name": "stderr"
        },
        {
          "output_type": "execute_result",
          "data": {
            "text/plain": [
              "tensor([ 0.0000,  0.1010,  0.2020,  0.3030,  0.4040,  0.5051,  0.6061,  0.7071,\n",
              "         0.8081,  0.9091,  1.0101,  1.1111,  1.2121,  1.3131,  1.4141,  1.5152,\n",
              "         1.6162,  1.7172,  1.8182,  1.9192,  2.0202,  2.1212,  2.2222,  2.3232,\n",
              "         2.4242,  2.5253,  2.6263,  2.7273,  2.8283,  2.9293,  3.0303,  3.1313,\n",
              "         3.2323,  3.3333,  3.4343,  3.5354,  3.6364,  3.7374,  3.8384,  3.9394,\n",
              "         4.0404,  4.1414,  4.2424,  4.3434,  4.4444,  4.5455,  4.6465,  4.7475,\n",
              "         4.8485,  4.9495,  5.0505,  5.1515,  5.2525,  5.3535,  5.4545,  5.5556,\n",
              "         5.6566,  5.7576,  5.8586,  5.9596,  6.0606,  6.1616,  6.2626,  6.3636,\n",
              "         6.4646,  6.5657,  6.6667,  6.7677,  6.8687,  6.9697,  7.0707,  7.1717,\n",
              "         7.2727,  7.3737,  7.4747,  7.5758,  7.6768,  7.7778,  7.8788,  7.9798,\n",
              "         8.0808,  8.1818,  8.2828,  8.3838,  8.4848,  8.5859,  8.6869,  8.7879,\n",
              "         8.8889,  8.9899,  9.0909,  9.1919,  9.2929,  9.3939,  9.4950,  9.5960,\n",
              "         9.6970,  9.7980,  9.8990, 10.0000])"
            ]
          },
          "metadata": {
            "tags": []
          },
          "execution_count": 26
        }
      ]
    },
    {
      "cell_type": "code",
      "metadata": {
        "colab": {
          "base_uri": "https://localhost:8080/"
        },
        "id": "KFlMepCxHXCH",
        "outputId": "2946444b-ef08-4295-d796-9772433fb4f4"
      },
      "source": [
        "#but you should supply a step as seen above -- intervals of 5\n",
        "x = torch.linspace(0,10,5)\n",
        "print(x)"
      ],
      "execution_count": 28,
      "outputs": [
        {
          "output_type": "stream",
          "text": [
            "tensor([ 0.0000,  2.5000,  5.0000,  7.5000, 10.0000])\n"
          ],
          "name": "stdout"
        }
      ]
    },
    {
      "cell_type": "code",
      "metadata": {
        "colab": {
          "base_uri": "https://localhost:8080/"
        },
        "id": "j39XPCAlHYj0",
        "outputId": "3cf37062-3142-4380-a3b8-c507b357c940"
      },
      "source": [
        "#sxponential of x\n",
        "y = torch.exp(x)\n",
        "print(y)"
      ],
      "execution_count": 30,
      "outputs": [
        {
          "output_type": "stream",
          "text": [
            "tensor([1.0000e+00, 1.2182e+01, 1.4841e+02, 1.8080e+03, 2.2026e+04])\n"
          ],
          "name": "stdout"
        }
      ]
    },
    {
      "cell_type": "code",
      "metadata": {
        "id": "_nKhkbsSHlWf"
      },
      "source": [
        "import matplotlib.pyplot as plt\n"
      ],
      "execution_count": 31,
      "outputs": []
    },
    {
      "cell_type": "code",
      "metadata": {
        "colab": {
          "base_uri": "https://localhost:8080/",
          "height": 281
        },
        "id": "uQOpG0wsHsQL",
        "outputId": "8b1c7d68-0371-4d61-c77d-d5243a6ff166"
      },
      "source": [
        "#tensors don't plot with plt, need to convert between that and np array??? not true??\n",
        "plt.plot(x,y)"
      ],
      "execution_count": 32,
      "outputs": [
        {
          "output_type": "execute_result",
          "data": {
            "text/plain": [
              "[<matplotlib.lines.Line2D at 0x7f6481920ed0>]"
            ]
          },
          "metadata": {
            "tags": []
          },
          "execution_count": 32
        },
        {
          "output_type": "display_data",
          "data": {
            "image/png": "[encoded data removed]",
            "text/plain": [
              "<Figure size 432x288 with 1 Axes>"
            ]
          },
          "metadata": {
            "tags": [],
            "needs_background": "light"
          }
        }
      ]
    },
    {
      "cell_type": "code",
      "metadata": {
        "colab": {
          "base_uri": "https://localhost:8080/",
          "height": 282
        },
        "id": "T-bX2FcJH1s2",
        "outputId": "5dcbc671-47fa-4198-d80b-682625b23132"
      },
      "source": [
        "#sine curve\n",
        "sine = torch.sin(x)\n",
        "plt.plot(x,sine)"
      ],
      "execution_count": 34,
      "outputs": [
        {
          "output_type": "execute_result",
          "data": {
            "text/plain": [
              "[<matplotlib.lines.Line2D at 0x7f64813dbf50>]"
            ]
          },
          "metadata": {
            "tags": []
          },
          "execution_count": 34
        },
        {
          "output_type": "display_data",
          "data": {
            "image/png": "[encoded data removed]",
            "text/plain": [
              "<Figure size 432x288 with 1 Axes>"
            ]
          },
          "metadata": {
            "tags": [],
            "needs_background": "light"
          }
        }
      ]
    },
    {
      "cell_type": "markdown",
      "metadata": {
        "id": "ZKiKm1roIcBc"
      },
      "source": [
        "Lesson 3 "
      ]
    },
    {
      "cell_type": "code",
      "metadata": {
        "colab": {
          "base_uri": "https://localhost:8080/"
        },
        "id": "mGP7GqWAHxs6",
        "outputId": "8111980e-d9a1-402c-979e-3191402126d2"
      },
      "source": [
        "#more typical range generation of tensor\n",
        "one_d = torch.arange(0,9)\n",
        "one_d"
      ],
      "execution_count": 35,
      "outputs": [
        {
          "output_type": "execute_result",
          "data": {
            "text/plain": [
              "tensor([0, 1, 2, 3, 4, 5, 6, 7, 8])"
            ]
          },
          "metadata": {
            "tags": []
          },
          "execution_count": 35
        }
      ]
    },
    {
      "cell_type": "code",
      "metadata": {
        "colab": {
          "base_uri": "https://localhost:8080/"
        },
        "id": "egGh_SkFIime",
        "outputId": "5ec90c1c-574b-4556-9bef-e50a2dc2f05e"
      },
      "source": [
        "two_d = one_d.view(3,3)\n",
        "two_d"
      ],
      "execution_count": 36,
      "outputs": [
        {
          "output_type": "execute_result",
          "data": {
            "text/plain": [
              "tensor([[0, 1, 2],\n",
              "        [3, 4, 5],\n",
              "        [6, 7, 8]])"
            ]
          },
          "metadata": {
            "tags": []
          },
          "execution_count": 36
        }
      ]
    },
    {
      "cell_type": "code",
      "metadata": {
        "colab": {
          "base_uri": "https://localhost:8080/"
        },
        "id": "aJxxFqwtIk67",
        "outputId": "734af82b-920d-4329-db37-8eb88813cc44"
      },
      "source": [
        "#returns num of dimensions\n",
        "two_d.dim()"
      ],
      "execution_count": 37,
      "outputs": [
        {
          "output_type": "execute_result",
          "data": {
            "text/plain": [
              "2"
            ]
          },
          "metadata": {
            "tags": []
          },
          "execution_count": 37
        }
      ]
    },
    {
      "cell_type": "code",
      "metadata": {
        "colab": {
          "base_uri": "https://localhost:8080/"
        },
        "id": "ZNHRlbVeIoFn",
        "outputId": "220f785a-5dbf-43a6-bbb3-e50ef11dd89d"
      },
      "source": [
        "#slicing 2d tensorsm, zero-indexed\n",
        "two_d[0,0]"
      ],
      "execution_count": 38,
      "outputs": [
        {
          "output_type": "execute_result",
          "data": {
            "text/plain": [
              "tensor(0)"
            ]
          },
          "metadata": {
            "tags": []
          },
          "execution_count": 38
        }
      ]
    },
    {
      "cell_type": "code",
      "metadata": {
        "colab": {
          "base_uri": "https://localhost:8080/"
        },
        "id": "s6xiRw5wIyFs",
        "outputId": "45d7035d-c2b7-44c9-b19b-112e3d4e0968"
      },
      "source": [
        "two_d[1,2]"
      ],
      "execution_count": 39,
      "outputs": [
        {
          "output_type": "execute_result",
          "data": {
            "text/plain": [
              "tensor(5)"
            ]
          },
          "metadata": {
            "tags": []
          },
          "execution_count": 39
        }
      ]
    },
    {
      "cell_type": "code",
      "metadata": {
        "colab": {
          "base_uri": "https://localhost:8080/"
        },
        "id": "Y2uuhYBTI0Zh",
        "outputId": "6e15f916-9162-4c8e-d899-971c6ddfc8a9"
      },
      "source": [
        "#infers start as 0 \n",
        "x = torch.arange(18).view(2,3,3)\n",
        "x"
      ],
      "execution_count": 42,
      "outputs": [
        {
          "output_type": "execute_result",
          "data": {
            "text/plain": [
              "tensor([[[ 0,  1,  2],\n",
              "         [ 3,  4,  5],\n",
              "         [ 6,  7,  8]],\n",
              "\n",
              "        [[ 9, 10, 11],\n",
              "         [12, 13, 14],\n",
              "         [15, 16, 17]]])"
            ]
          },
          "metadata": {
            "tags": []
          },
          "execution_count": 42
        }
      ]
    },
    {
      "cell_type": "code",
      "metadata": {
        "colab": {
          "base_uri": "https://localhost:8080/"
        },
        "id": "QQa_adoPI_FU",
        "outputId": "b5570566-df04-4aae-9c19-39942d8d8f48"
      },
      "source": [
        "#shaped by view tuple of integers that must be compatible with the total number of values, 3 blocks of 3 int\n",
        "x = torch.arange(18).view(3,2,3)\n",
        "x"
      ],
      "execution_count": 46,
      "outputs": [
        {
          "output_type": "execute_result",
          "data": {
            "text/plain": [
              "tensor([[[ 0,  1,  2],\n",
              "         [ 3,  4,  5]],\n",
              "\n",
              "        [[ 6,  7,  8],\n",
              "         [ 9, 10, 11]],\n",
              "\n",
              "        [[12, 13, 14],\n",
              "         [15, 16, 17]]])"
            ]
          },
          "metadata": {
            "tags": []
          },
          "execution_count": 46
        }
      ]
    },
    {
      "cell_type": "code",
      "metadata": {
        "colab": {
          "base_uri": "https://localhost:8080/"
        },
        "id": "ecuFAnN0JJNT",
        "outputId": "fbf8e56b-25be-45ee-f102-4d8491a1d165"
      },
      "source": [
        "#multi-dimensional slicing\n",
        "x[1, 1, 1]"
      ],
      "execution_count": 47,
      "outputs": [
        {
          "output_type": "execute_result",
          "data": {
            "text/plain": [
              "tensor(10)"
            ]
          },
          "metadata": {
            "tags": []
          },
          "execution_count": 47
        }
      ]
    },
    {
      "cell_type": "code",
      "metadata": {
        "colab": {
          "base_uri": "https://localhost:8080/"
        },
        "id": "XjBjG_QZfaHf",
        "outputId": "ed1e9385-c764-4db0-94e3-1f1a05a213b2"
      },
      "source": [
        "#slicing from row 0 to stop index of 2(exclusive, so row 1) in 2nd block, columns sliced 0-3(so row 2)\n",
        "x[1, 0:2, 0:3]"
      ],
      "execution_count": 48,
      "outputs": [
        {
          "output_type": "execute_result",
          "data": {
            "text/plain": [
              "tensor([[ 6,  7,  8],\n",
              "        [ 9, 10, 11]])"
            ]
          },
          "metadata": {
            "tags": []
          },
          "execution_count": 48
        }
      ]
    },
    {
      "cell_type": "code",
      "metadata": {
        "colab": {
          "base_uri": "https://localhost:8080/"
        },
        "id": "_5AxsfTDfuzp",
        "outputId": "b007cddc-b12f-43ce-e111-4aaa342deff6"
      },
      "source": [
        "#easier way to do it without range to get all of row/column\n",
        "x[1,:,:]"
      ],
      "execution_count": 49,
      "outputs": [
        {
          "output_type": "execute_result",
          "data": {
            "text/plain": [
              "tensor([[ 6,  7,  8],\n",
              "        [ 9, 10, 11]])"
            ]
          },
          "metadata": {
            "tags": []
          },
          "execution_count": 49
        }
      ]
    },
    {
      "cell_type": "markdown",
      "metadata": {
        "id": "kv0Hidmof3mP"
      },
      "source": [
        "Lesson 4 -- matrix multiplication"
      ]
    },
    {
      "cell_type": "code",
      "metadata": {
        "colab": {
          "base_uri": "https://localhost:8080/"
        },
        "id": "D_JPKqcHfzpz",
        "outputId": "fd9b493c-3e5e-4a5c-aec3-4a41639c6ac1"
      },
      "source": [
        "mat_a = torch.tensor([0, 3, 5, 5, 5, 2]).view(2, 3)\n",
        "mat_a"
      ],
      "execution_count": 51,
      "outputs": [
        {
          "output_type": "execute_result",
          "data": {
            "text/plain": [
              "tensor([[0, 3, 5],\n",
              "        [5, 5, 2]])"
            ]
          },
          "metadata": {
            "tags": []
          },
          "execution_count": 51
        }
      ]
    },
    {
      "cell_type": "code",
      "metadata": {
        "colab": {
          "base_uri": "https://localhost:8080/"
        },
        "id": "mROcMAOzgi0X",
        "outputId": "c593af1f-3f5c-41ef-c256-19b77e0a1407"
      },
      "source": [
        "mat_b = torch.tensor([3, 4, 3, -2, 4, -2]).view(3,2)\n",
        "mat_b"
      ],
      "execution_count": 53,
      "outputs": [
        {
          "output_type": "execute_result",
          "data": {
            "text/plain": [
              "tensor([[ 3,  4],\n",
              "        [ 3, -2],\n",
              "        [ 4, -2]])"
            ]
          },
          "metadata": {
            "tags": []
          },
          "execution_count": 53
        }
      ]
    },
    {
      "cell_type": "code",
      "metadata": {
        "colab": {
          "base_uri": "https://localhost:8080/"
        },
        "id": "KSmhdjdvgrHW",
        "outputId": "b4e1f59c-f52a-479d-e90c-1d390e199ceb"
      },
      "source": [
        "#a really IMPORTANT method for matrix multiplication!\n",
        "torch.matmul(mat_a, mat_b)"
      ],
      "execution_count": 54,
      "outputs": [
        {
          "output_type": "execute_result",
          "data": {
            "text/plain": [
              "tensor([[ 29, -16],\n",
              "        [ 38,   6]])"
            ]
          },
          "metadata": {
            "tags": []
          },
          "execution_count": 54
        }
      ]
    },
    {
      "cell_type": "markdown",
      "metadata": {
        "id": "3z0ixT4pg00l"
      },
      "source": [
        "Lesson 5 - derivatives in torch skipped"
      ]
    },
    {
      "cell_type": "code",
      "metadata": {
        "id": "AktQ5wyHgy1A"
      },
      "source": [
        "#tbd"
      ],
      "execution_count": null,
      "outputs": []
    }
  ]
}